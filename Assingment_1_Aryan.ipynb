{
 "cells": [
  {
   "cell_type": "markdown",
   "id": "b60b6a82",
   "metadata": {},
   "source": [
    "## Assingment Submission Made By Aryan Rathore \n",
    "\n",
    "###  1. read the dataset from file path \n",
    "### 2. converts the original_file to a dataframe \n",
    "### 3. dataset analysis\n",
    "### 4. Assingment 1 answer"
   ]
  },
  {
   "cell_type": "code",
   "execution_count": 1,
   "id": "13cded4f",
   "metadata": {},
   "outputs": [],
   "source": [
    "import os\n",
    "import pandas as pd\n",
    "\n",
    "# Assingment answers by Aryan Rathore\n",
    "# 1. read the dataset from file path \n",
    "\n",
    "\n",
    "meddra_path = r\"f://assing//cadec//meddra\"\n",
    "original_path = r\"f://assing//cadec//original\"\n",
    "sct_path = r\"f://assing//cadec//sct\"\n",
    "text_path = r\"f://assing//cadec//text\"\n",
    "\n",
    "def get_file_contents(folder_path):\n",
    "\n",
    "    '''\n",
    "        Reads all files in the specified folder.\n",
    "        Ignores empty files and comments (lines starting with '#').\n",
    "        \n",
    "    '''\n",
    "\n",
    "    file_contents = {}\n",
    "\n",
    "    for filename in os.listdir(folder_path):\n",
    "        file_path = os.path.join(folder_path, filename)\n",
    "        if os.path.isfile(file_path):\n",
    "            with open(file_path, \"r\") as file:\n",
    "                texts = file.read()\n",
    "                if texts == \"\": continue\n",
    "                texts = texts.split(\"\\n\")\n",
    "                texts = [i.split(\"\\t\") for i in texts]\n",
    "                texts = [i for i in texts if i != [''] and i[0][0] != '#']\n",
    "                file_contents[filename] = texts\n",
    "\n",
    "    return file_contents\n",
    "\n",
    "\n",
    "meddra_files = get_file_contents(meddra_path)\n",
    "original_files = get_file_contents(original_path)\n",
    "sct_files = get_file_contents(sct_path)"
   ]
  },
  {
   "cell_type": "code",
   "execution_count": 30,
   "id": "8dd453e2",
   "metadata": {},
   "outputs": [
    {
     "data": {
      "text/plain": [
       "[['TT1', '10013649 9 19', 'bit drowsy'],\n",
       " ['TT2', '10005886 29 50', 'little blurred vision'],\n",
       " ['TT4', '10056819 62 78', 'gastric problems'],\n",
       " ['TT8', '10025482 437 453', 'feel a bit weird']]"
      ]
     },
     "execution_count": 30,
     "metadata": {},
     "output_type": "execute_result"
    }
   ],
   "source": [
    "meddra_files['ARTHROTEC.1.ann']"
   ]
  },
  {
   "cell_type": "code",
   "execution_count": 31,
   "id": "136ccf3c",
   "metadata": {},
   "outputs": [
    {
     "data": {
      "text/plain": [
       "[['T1', 'ADR 9 19', 'bit drowsy'],\n",
       " ['T2', 'ADR 29 50', 'little blurred vision'],\n",
       " ['T3', 'Drug 93 102', 'Arthrotec'],\n",
       " ['T5', 'Disease 179 188', 'arthritis'],\n",
       " ['T6', 'Symptom 260 265', 'agony'],\n",
       " ['T4', 'ADR 62 78', 'gastric problems'],\n",
       " ['T7', 'Symptom 412 417', 'pains'],\n",
       " ['T8', 'ADR 437 453', 'feel a bit weird']]"
      ]
     },
     "execution_count": 31,
     "metadata": {},
     "output_type": "execute_result"
    }
   ],
   "source": [
    "original_files['ARTHROTEC.1.ann']"
   ]
  },
  {
   "cell_type": "code",
   "execution_count": 32,
   "id": "668a5955",
   "metadata": {},
   "outputs": [
    {
     "data": {
      "text/plain": [
       "[['TT1', '271782001 | Drowsy | 9 19', 'bit drowsy'],\n",
       " ['TT2', '246636008 | Blurred vision - hazy | 29 50', 'little blurred vision'],\n",
       " ['TT4',\n",
       "  '162076009 | Excessive upper gastrointestinal gas | 62 78',\n",
       "  'gastric problems'],\n",
       " ['TT3', '3384011000036100 | Arthrotec | 93 102', 'Arthrotec'],\n",
       " ['TT5', '3723001 | Arthritis | 179 188', 'arthritis'],\n",
       " ['TT6', '102498003 | Agony | or 76948002|Severe pain| 260 265', 'agony'],\n",
       " ['TT7', '22253000 | Pain | 412 417', 'pains'],\n",
       " ['TT8', '367391008 | Malaise | 437 453', 'feel a bit weird']]"
      ]
     },
     "execution_count": 32,
     "metadata": {},
     "output_type": "execute_result"
    }
   ],
   "source": [
    "sct_files['ARTHROTEC.1.ann']"
   ]
  },
  {
   "cell_type": "markdown",
   "id": "2d51b75b",
   "metadata": {},
   "source": [
    "## --- 2. converts the original_file to a dataframe ---"
   ]
  },
  {
   "cell_type": "code",
   "execution_count": null,
   "id": "611b339b",
   "metadata": {},
   "outputs": [
    {
     "data": {
      "text/html": [
       "<div>\n",
       "<style scoped>\n",
       "    .dataframe tbody tr th:only-of-type {\n",
       "        vertical-align: middle;\n",
       "    }\n",
       "\n",
       "    .dataframe tbody tr th {\n",
       "        vertical-align: top;\n",
       "    }\n",
       "\n",
       "    .dataframe thead th {\n",
       "        text-align: right;\n",
       "    }\n",
       "</style>\n",
       "<table border=\"1\" class=\"dataframe\">\n",
       "  <thead>\n",
       "    <tr style=\"text-align: right;\">\n",
       "      <th></th>\n",
       "      <th>file_name</th>\n",
       "      <th>label</th>\n",
       "      <th>identifier</th>\n",
       "      <th>value</th>\n",
       "    </tr>\n",
       "  </thead>\n",
       "  <tbody>\n",
       "    <tr>\n",
       "      <th>0</th>\n",
       "      <td>ARTHROTEC.1.ann</td>\n",
       "      <td>T1</td>\n",
       "      <td>ADR</td>\n",
       "      <td>bit drowsy</td>\n",
       "    </tr>\n",
       "    <tr>\n",
       "      <th>1</th>\n",
       "      <td>ARTHROTEC.1.ann</td>\n",
       "      <td>T2</td>\n",
       "      <td>ADR</td>\n",
       "      <td>little blurred vision</td>\n",
       "    </tr>\n",
       "    <tr>\n",
       "      <th>2</th>\n",
       "      <td>ARTHROTEC.1.ann</td>\n",
       "      <td>T3</td>\n",
       "      <td>Drug</td>\n",
       "      <td>Arthrotec</td>\n",
       "    </tr>\n",
       "    <tr>\n",
       "      <th>3</th>\n",
       "      <td>ARTHROTEC.1.ann</td>\n",
       "      <td>T5</td>\n",
       "      <td>Disease</td>\n",
       "      <td>arthritis</td>\n",
       "    </tr>\n",
       "    <tr>\n",
       "      <th>4</th>\n",
       "      <td>ARTHROTEC.1.ann</td>\n",
       "      <td>T6</td>\n",
       "      <td>Symptom</td>\n",
       "      <td>agony</td>\n",
       "    </tr>\n",
       "  </tbody>\n",
       "</table>\n",
       "</div>"
      ],
      "text/plain": [
       "         file_name label identifier                  value\n",
       "0  ARTHROTEC.1.ann    T1        ADR             bit drowsy\n",
       "1  ARTHROTEC.1.ann    T2        ADR  little blurred vision\n",
       "2  ARTHROTEC.1.ann    T3       Drug              Arthrotec\n",
       "3  ARTHROTEC.1.ann    T5    Disease              arthritis\n",
       "4  ARTHROTEC.1.ann    T6    Symptom                  agony"
      ]
     },
     "execution_count": 43,
     "metadata": {},
     "output_type": "execute_result"
    }
   ],
   "source": [
    "# since all the important data is in original_files, we will convert it to dataframe and get the required information for asssingment 1\n",
    "\n",
    "data = []\n",
    "for file_name, value in original_files.items():\n",
    "    for entry in value:\n",
    "        my_dict = {}\n",
    "        my_dict['file_name'] = file_name\n",
    "        my_dict[\"label\"] = entry[0]\n",
    "        my_dict[\"identifier\"] = entry[1].split(\" \")[0]\n",
    "        my_dict[\"value\"] = entry[2]\n",
    "        data.append(my_dict)\n",
    "\n",
    "original_df = pd.DataFrame(data, columns=[\"file_name\", \"label\", \"identifier\", \"value\"])\n",
    "original_df.head()"
   ]
  },
  {
   "cell_type": "markdown",
   "id": "54182353",
   "metadata": {},
   "source": [
    "## --- 3. dataset analysis ---"
   ]
  },
  {
   "cell_type": "code",
   "execution_count": 67,
   "id": "bb5cb994",
   "metadata": {},
   "outputs": [
    {
     "name": "stdout",
     "output_type": "stream",
     "text": [
      "<class 'pandas.core.frame.DataFrame'>\n",
      "RangeIndex: 9111 entries, 0 to 9110\n",
      "Data columns (total 4 columns):\n",
      " #   Column      Non-Null Count  Dtype \n",
      "---  ------      --------------  ----- \n",
      " 0   file_name   9111 non-null   object\n",
      " 1   label       9111 non-null   object\n",
      " 2   identifier  9111 non-null   object\n",
      " 3   value       9111 non-null   object\n",
      "dtypes: object(4)\n",
      "memory usage: 284.8+ KB\n"
     ]
    }
   ],
   "source": [
    "original_df.info()"
   ]
  },
  {
   "cell_type": "markdown",
   "id": "c95d26d2",
   "metadata": {},
   "source": [
    "## --- 4. Assingment 1 Answer ---"
   ]
  },
  {
   "cell_type": "code",
   "execution_count": null,
   "id": "7d4fefca",
   "metadata": {},
   "outputs": [
    {
     "data": {
      "text/plain": [
       "identifier\n",
       "ADR        6318\n",
       "Drug       1800\n",
       "Finding     435\n",
       "Disease     283\n",
       "Symptom     275\n",
       "Name: count, dtype: int64"
      ]
     },
     "execution_count": 44,
     "metadata": {},
     "output_type": "execute_result"
    }
   ],
   "source": [
    "original_df.value_counts('identifier') # shows all unique labels"
   ]
  },
  {
   "cell_type": "code",
   "execution_count": null,
   "id": "c660de75",
   "metadata": {},
   "outputs": [
    {
     "data": {
      "text/plain": [
       "value                        \n",
       "Lipitor                          782\n",
       "pain                             284\n",
       "lipitor                          230\n",
       "muscle pain                      102\n",
       "fatigue                           86\n",
       "                                ... \n",
       "couldn't go up stairs easily       1\n",
       "couldn't lift my arms              1\n",
       "couldn't lift my arms or legs      1\n",
       "couldn't move my legs              1\n",
       "genetically high LDL               1\n",
       "Name: count, Length: 4510, dtype: int64"
      ]
     },
     "execution_count": 68,
     "metadata": {},
     "output_type": "execute_result"
    }
   ],
   "source": [
    "original_df.value_counts(['value']) # shows all unique values"
   ]
  },
  {
   "cell_type": "code",
   "execution_count": null,
   "id": "29537330",
   "metadata": {},
   "outputs": [
    {
     "data": {
      "text/plain": [
       "identifier  value                                \n",
       "ADR         pain                                     184\n",
       "            muscle pain                               95\n",
       "            fatigue                                   83\n",
       "            depression                                66\n",
       "            joint pain                                56\n",
       "                                                    ... \n",
       "Symptom     trigger point pain                         1\n",
       "            very little mobility in my right hand      1\n",
       "            very painful joints                        1\n",
       "            walk up & down steps sideways              1\n",
       "            walking up the stairs was intolerable      1\n",
       "Name: count, Length: 4707, dtype: int64"
      ]
     },
     "execution_count": 64,
     "metadata": {},
     "output_type": "execute_result"
    }
   ],
   "source": [
    "original_df.groupby('identifier')['value'].value_counts() # shows all unique values for each label"
   ]
  },
  {
   "cell_type": "code",
   "execution_count": null,
   "id": "ee656bd1",
   "metadata": {},
   "outputs": [
    {
     "data": {
      "text/plain": [
       "identifier\n",
       "ADR        3681\n",
       "Disease     181\n",
       "Drug        391\n",
       "Finding     304\n",
       "Symptom     150\n",
       "Name: value, dtype: int64"
      ]
     },
     "execution_count": 65,
     "metadata": {},
     "output_type": "execute_result"
    }
   ],
   "source": [
    "original_df.groupby('identifier')['value'].nunique() # shows number of unique values for each label"
   ]
  }
 ],
 "metadata": {
  "kernelspec": {
   "display_name": "Python 3",
   "language": "python",
   "name": "python3"
  },
  "language_info": {
   "codemirror_mode": {
    "name": "ipython",
    "version": 3
   },
   "file_extension": ".py",
   "mimetype": "text/x-python",
   "name": "python",
   "nbconvert_exporter": "python",
   "pygments_lexer": "ipython3",
   "version": "3.12.6"
  }
 },
 "nbformat": 4,
 "nbformat_minor": 5
}
